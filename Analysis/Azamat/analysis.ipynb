{
  "cells": [
    {
      "cell_type": "code",
      "execution_count": null,
      "metadata": {
        "id": "z1DloKQaGIcZ"
      },
      "outputs": [],
      "source": [
        "#code to create price bracket\n",
        "import pandas as pd\n",
        "import matplotlib.pyplot as plt\n",
        "\n",
        "df = pd.read_csv(\"PAD.Long.2021.csv\")\n",
        "l = [\"R1\", \"R2\", \"R3\", \"R4\"]\n",
        "df = df[df[\"FY2021.LU\"].isin(l)]\n",
        "df[\"Monthly Rent\"] = df.apply(lambda row: row[\"FY2021.AV\"] * 0.008, axis = 1)\n",
        "df[[\"Monthly Rent\", \"FY2021.AV\"]]\n",
        "\n",
        "df[\"price bracket\"] = df['FY2021.AV'].apply(lambda x: round(x, -4))\n",
        "df[\"price bracket\"] = df[\"price bracket\"].apply(\n",
        "    lambda x: '$1000000+' if len(str(x)) >= 9\n",
        "    else '$' + str(int((round(x, -5)))) + \"-\" + str(int(round(x, -5) + 100000)) if round(x, -5) <= (round(x, -4))\n",
        "    else '$' + str(int(round(x, -5) - 100000)) + \"-\" + str(int(round(x, -5))) if round(x, -5) > (round(x, -4))\n",
        "    else None\n",
        ")\n",
        "df2 = df.groupby(\"price bracket\")[\"Monthly Rent\"].mean()\n",
        "l2 = []\n",
        "for i in range(len(df2)):\n",
        "    df2[i] = int(round(df2[i]))\n",
        "    l2.append(df2[i])\n",
        "#l3 = [\"0 - 100000\", \"100000-200000\", \"200000-300000\", \"300000-400000\", \"400000-500000\", \"500000-600000\", \"600000-700000\", \"700000-800000\", \"800000-900000\", \"900000-1000000\", \"1000000+\"]\n",
        "df=df.dropna(subset=[\"Monthly Rent\"])"
      ]
    },
    {
      "cell_type": "code",
      "execution_count": null,
      "metadata": {
        "id": "ndiRoWRCG55p"
      },
      "outputs": [],
      "source": [
        "#code to create AMI destribution\n",
        "df[\"Annual Rent\"] = df.apply(lambda row: int(row[\"Monthly Rent\"] * 12), axis = 1)\n",
        "df[\"Expected Salary\"] = df.apply(lambda row: int(row[\"Annual Rent\"] / 0.3), axis = 1)\n",
        "\n",
        "sal = [28450, 47400, 56880, 63450, 72550, 90650, 108800, 122400]\n",
        "ami = [\"30%\", \"50%\", \"60%\", \"70%\", \"80%\", \"100%\", \"120%\", \"130%+\"]\n",
        "temp = []\n",
        "for k in df[\"Expected Salary\"]:\n",
        "    bol = False\n",
        "    for i in range(len(sal) - 1):\n",
        "        mid = int((sal[i] + sal[i+1])//2)\n",
        "        if int(k) <= mid:\n",
        "            temp.append(i)\n",
        "            bol = True\n",
        "            break\n",
        "    if bol == False:\n",
        "        temp.append(i + 1)\n",
        "\n",
        "df[\"label\"] = temp\n",
        "df[\"AMI\"] = df.apply(lambda row: ami[row[\"label\"]], axis = 1)\n",
        "\n",
        "some = df.groupby(by=[\"AMI\"], sort=True)[\"FY2021.AV\"].mean()\n",
        "some = some.sort_values(ascending=True)\n",
        "some2 = []\n",
        "for k in some:\n",
        "    some2.append(int(round(k)))\n",
        "\n",
        "plt.bar(ami, some2)\n",
        "plt.xlabel('AMI')\n",
        "plt.ylabel('Average Property Cost')\n",
        "plt.show()"
      ]
    },
    {
      "cell_type": "code",
      "execution_count": null,
      "metadata": {
        "id": "hMykUyxrHELA"
      },
      "outputs": [],
      "source": [
        "#code to classify if listing is affordable or not by comparing to fair rent price\n",
        "df.loc[df[\"FY2021.LU\"] == \"R1\", \"Family Number\"] = 1\n",
        "df.loc[df[\"FY2021.LU\"] == \"R2\", \"Family Number\"] = 2\n",
        "df.loc[df[\"FY2021.LU\"] == \"R3\", \"Family Number\"] = 3\n",
        "df.loc[df[\"FY2021.LU\"] == \"R4\", \"Family Number\"] = 4\n",
        "\n",
        "df[\"Rent_Per_Family\"] = df.apply(lambda row: row[\"Monthly Rent\"] // row[\"Family Number\"], axis = 1)\n",
        "df[[\"Monthly Rent\", \"Family Number\", \"Rent_Per_Family\"]]\n",
        "\n",
        "df_income = pd.read_csv(\"Income Limits (September 8, 2022) - Small Area FMRs.csv\")\n",
        "df_income = df_income.rename(columns={'2023 Boston Small Area Fair Market Rents, Effective 10/1/2022 (https://www.huduser.gov/portal/datasets/fmr/smallarea/index.html)': \"ZIP\"})\n",
        "df_income = df_income.rename(columns={'Unnamed: 6': \"3bed\"})\n",
        "df_income = df_income.drop(0)\n",
        "df_income = df_income.drop(31)\n",
        "zip_list = []\n",
        "\n",
        "dic = dict(zip(df_income.ZIP, df_income[\"3bed\"]))\n",
        "for key in dic:\n",
        "    elem = dic[key]\n",
        "    dic[key] = elem[1] + elem[3:]\n",
        "\n",
        "l = []\n",
        "some = 0\n",
        "mean_val = 0\n",
        "for val in dic.values():\n",
        "    mean_val += float(val)\n",
        "mean_val = mean_val // len(dic)\n",
        "for k, y  in zip(df.ZIPCODE, df.Rent_Per_Family):\n",
        "    x = str(k)\n",
        "    k = '0' + x[0:-2]\n",
        "    if k in dic and y < float(dic[k]):\n",
        "        l.append(\"Yes\")\n",
        "    elif k in dic:\n",
        "        l.append(\"No\")\n",
        "    elif y < mean_val:\n",
        "        l.append(\"Yes\")\n",
        "    else:\n",
        "        l.append(\"No\")\n",
        "\n",
        "df[\"affordable\"] = l"
      ]
    },
    {
      "cell_type": "code",
      "execution_count": null,
      "metadata": {
        "id": "KcR81IdUHf5r"
      },
      "outputs": [],
      "source": [
        "#code to match listing with violation dataset\n",
        "import numpy as np\n",
        "\n",
        "df_vio = pd.read_csv(\"Violations2010_2021.csv\", encoding='cp1252')\n",
        "df_vio\n",
        "test = df[[\"X\", \"Y\"]]\n",
        "test2 = df_vio[[\"longitude\", \"latitude\"]]\n",
        "test2 = test2.rename(columns={'longitude': 'X', 'latitude': 'Y'})\n",
        "\n",
        "df = pd.merge(df, test2, on=['X','Y'], how='left', indicator='Violation')\n",
        "df['Violation'] = np.where(df.Violation == 'both', 1, 0)\n",
        "df = df.drop_duplicates(keep='first')\n",
        "df"
      ]
    },
    {
      "cell_type": "code",
      "execution_count": null,
      "metadata": {
        "id": "ZA-_Kd7PHqoo"
      },
      "outputs": [],
      "source": [
        "#code to calculate percent of afforable vs non-affordable listing with violations\n",
        "x = df.groupby([\"ZIPCODE\", \"affordable\"])[\"Violation\"].sum()\n",
        "temp = df[\"ZIPCODE\"].unique()\n",
        "zip_listed = sorted(temp)\n",
        "vio_afford = [0, 10, 1, 19, 2, 1, 2, 0, 26, 7, 36, 41, 78, 53, 21, 28, 28, 15, 17, 17, 8, 4, 21, 8, 3]\n",
        "vio_nonafford = [6, 1, 0, 3, 15, 4, 17, 10, 6, 5, 6, 10, 17, 27, 0, 22, 7, 15, 17, 10, 12, 14, 16, 9, 0]\n",
        "zip_listed.remove(2026.0)\n",
        "zip_listed.remove(2199.0)\n",
        "zip_listed.remove(2445.0)\n",
        "zip_listed.remove(2446.0)\n",
        "zip_listed.remove(2467.0)\n",
        "\n",
        "num_afford = df.groupby([\"ZIPCODE\", \"affordable\"])[\"affordable\"].count()\n",
        "num_affordl = list(num_afford)\n",
        "num_affordl = num_affordl[1:-6]\n",
        "num_affordl.pop(-3)\n",
        "len(num_affordl)\n",
        "afford = []\n",
        "nonafford = []\n",
        "for k in range(len(num_affordl)):\n",
        "    if k % 2 == 0:\n",
        "      nonafford.append(num_affordl[k])  \n",
        "    else:\n",
        "        afford.append(num_affordl[k])\n",
        "\n",
        "for i in range(25):\n",
        "    vio_afford[i] = (vio_afford[i] / afford[i]) * 100\n",
        "    vio_nonafford[i] = (vio_nonafford[i] / nonafford[i]) * 100"
      ]
    },
    {
      "cell_type": "code",
      "execution_count": null,
      "metadata": {
        "id": "YAd8jhX1HzdE"
      },
      "outputs": [],
      "source": [
        "#plug the graph\n",
        "index = np.arange(25)\n",
        "bar_width = 0.4\n",
        "\n",
        "fig, ax = plt.subplots()\n",
        "af = ax.bar(index, vio_afford, bar_width,\n",
        "                label=\"Affordable\")\n",
        "\n",
        "nonaf = ax.bar(index+bar_width, vio_nonafford,\n",
        "                 bar_width, label=\"Non-affordable\")\n",
        "\n",
        "ax.set_xlabel('Zip Code')\n",
        "ax.set_ylabel('Percent of affordable and non-afforadble violations')\n",
        "ax.set_title('Affordability Influence on Number of Violations')\n",
        "ax.set_xticks(index + bar_width / 2)\n",
        "ax.set_xticklabels(zip_listed)\n",
        "ax.legend()\n",
        "\n",
        "fig.set_figwidth(20)\n",
        "fig.set_figheight(10)\n",
        "\n",
        "plt.show()"
      ]
    }
  ],
  "metadata": {
    "colab": {
      "provenance": []
    },
    "kernelspec": {
      "display_name": "Python 3",
      "language": "python",
      "name": "python3"
    },
    "language_info": {
      "name": "python",
      "version": "3.9.1 (tags/v3.9.1:1e5d33e, Dec  7 2020, 17:08:21) [MSC v.1927 64 bit (AMD64)]"
    },
    "vscode": {
      "interpreter": {
        "hash": "1521686693d492f7ac7386a85b81e162ef92b50cf68ec8438a027e99e9db8d9c"
      }
    }
  },
  "nbformat": 4,
  "nbformat_minor": 0
}
