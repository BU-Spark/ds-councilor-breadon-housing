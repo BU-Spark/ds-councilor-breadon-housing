{
 "cells": [
  {
   "cell_type": "code",
   "execution_count": 1,
   "metadata": {
    "collapsed": true
   },
   "outputs": [
    {
     "data": {
      "text/plain": "Index(['date', 'violation_type', 'description', 'address', 'neighborhood',\n       'zip_code', 'parcel', 'owner', 'year built', 'year remodeled',\n       'property_type', 'latitude', 'longitude'],\n      dtype='object')"
     },
     "execution_count": 1,
     "metadata": {},
     "output_type": "execute_result"
    }
   ],
   "source": [
    "import pandas as pd\n",
    "\n",
    "df = pd.read_csv('tmpgwa61rsk.csv')\n",
    "df.columns"
   ]
  },
  {
   "cell_type": "code",
   "execution_count": 3,
   "outputs": [
    {
     "data": {
      "text/plain": "                       date      violation_type  \\\n45      2022-12-04 20:17:00  Housing Complaints   \n46  2022-12-04 19:29:07.423  Housing Complaints   \n47      2022-12-04 18:56:00  Housing Complaints   \n49      2022-12-04 18:49:00  Housing Complaints   \n53      2022-12-04 16:07:00  Housing Complaints   \n\n                            description                   address  \\\n45                           Electrical  311 Blue Hill Ave, 02121   \n46  Maintenance Complaint - Residential  15 Wildwood St #1, 02124   \n47       Heat - Excessive, Insufficient  505 Washington St, 02135   \n49          Building Inspection Request  505 Washington St, 02135   \n53                 Working Beyond Hours      32 Orleans St, 02128   \n\n   neighborhood  zip_code      parcel                              owner  \\\n45   Dorchester      2121  1202889000                    TCB CLARION LLC   \n46   Dorchester      2124  1403459000  FAIRFIELD BOSTON APTS LPS MASS LP   \n47     Brighton      2135  2204144000                    KEEGAN JOSEPH A   \n49     Brighton      2135  2204144000                    KEEGAN JOSEPH A   \n53  East Boston      2128   105385000              32 ORLEANS STREET LLC   \n\n    year built  year remodeled                property_type   latitude  \\\n45         NaN             NaN   Mixed Use (Res. and Comm.)  42.313876   \n46      1925.0          1992.0  Residential 7 or more units  42.283920   \n47      1915.0          2004.0         Residential 3-family  42.349170   \n49      1915.0          2004.0         Residential 3-family  42.349170   \n53      1900.0             NaN         Residential 2-family  42.367640   \n\n    longitude  \n45 -71.079523  \n46 -71.087240  \n47 -71.161400  \n49 -71.161400  \n53 -71.038540  ",
      "text/html": "<div>\n<style scoped>\n    .dataframe tbody tr th:only-of-type {\n        vertical-align: middle;\n    }\n\n    .dataframe tbody tr th {\n        vertical-align: top;\n    }\n\n    .dataframe thead th {\n        text-align: right;\n    }\n</style>\n<table border=\"1\" class=\"dataframe\">\n  <thead>\n    <tr style=\"text-align: right;\">\n      <th></th>\n      <th>date</th>\n      <th>violation_type</th>\n      <th>description</th>\n      <th>address</th>\n      <th>neighborhood</th>\n      <th>zip_code</th>\n      <th>parcel</th>\n      <th>owner</th>\n      <th>year built</th>\n      <th>year remodeled</th>\n      <th>property_type</th>\n      <th>latitude</th>\n      <th>longitude</th>\n    </tr>\n  </thead>\n  <tbody>\n    <tr>\n      <th>45</th>\n      <td>2022-12-04 20:17:00</td>\n      <td>Housing Complaints</td>\n      <td>Electrical</td>\n      <td>311 Blue Hill Ave, 02121</td>\n      <td>Dorchester</td>\n      <td>2121</td>\n      <td>1202889000</td>\n      <td>TCB CLARION LLC</td>\n      <td>NaN</td>\n      <td>NaN</td>\n      <td>Mixed Use (Res. and Comm.)</td>\n      <td>42.313876</td>\n      <td>-71.079523</td>\n    </tr>\n    <tr>\n      <th>46</th>\n      <td>2022-12-04 19:29:07.423</td>\n      <td>Housing Complaints</td>\n      <td>Maintenance Complaint - Residential</td>\n      <td>15 Wildwood St #1, 02124</td>\n      <td>Dorchester</td>\n      <td>2124</td>\n      <td>1403459000</td>\n      <td>FAIRFIELD BOSTON APTS LPS MASS LP</td>\n      <td>1925.0</td>\n      <td>1992.0</td>\n      <td>Residential 7 or more units</td>\n      <td>42.283920</td>\n      <td>-71.087240</td>\n    </tr>\n    <tr>\n      <th>47</th>\n      <td>2022-12-04 18:56:00</td>\n      <td>Housing Complaints</td>\n      <td>Heat - Excessive, Insufficient</td>\n      <td>505 Washington St, 02135</td>\n      <td>Brighton</td>\n      <td>2135</td>\n      <td>2204144000</td>\n      <td>KEEGAN JOSEPH A</td>\n      <td>1915.0</td>\n      <td>2004.0</td>\n      <td>Residential 3-family</td>\n      <td>42.349170</td>\n      <td>-71.161400</td>\n    </tr>\n    <tr>\n      <th>49</th>\n      <td>2022-12-04 18:49:00</td>\n      <td>Housing Complaints</td>\n      <td>Building Inspection Request</td>\n      <td>505 Washington St, 02135</td>\n      <td>Brighton</td>\n      <td>2135</td>\n      <td>2204144000</td>\n      <td>KEEGAN JOSEPH A</td>\n      <td>1915.0</td>\n      <td>2004.0</td>\n      <td>Residential 3-family</td>\n      <td>42.349170</td>\n      <td>-71.161400</td>\n    </tr>\n    <tr>\n      <th>53</th>\n      <td>2022-12-04 16:07:00</td>\n      <td>Housing Complaints</td>\n      <td>Working Beyond Hours</td>\n      <td>32 Orleans St, 02128</td>\n      <td>East Boston</td>\n      <td>2128</td>\n      <td>105385000</td>\n      <td>32 ORLEANS STREET LLC</td>\n      <td>1900.0</td>\n      <td>NaN</td>\n      <td>Residential 2-family</td>\n      <td>42.367640</td>\n      <td>-71.038540</td>\n    </tr>\n  </tbody>\n</table>\n</div>"
     },
     "execution_count": 3,
     "metadata": {},
     "output_type": "execute_result"
    }
   ],
   "source": [
    "df = df[df['violation_type']=='Housing Complaints']\n",
    "df.head(5)"
   ],
   "metadata": {
    "collapsed": false,
    "pycharm": {
     "name": "#%%\n"
    }
   }
  },
  {
   "cell_type": "code",
   "execution_count": 4,
   "outputs": [
    {
     "name": "stdout",
     "output_type": "stream",
     "text": [
      "                       date      violation_type  \\\n",
      "45      2022-12-04 20:17:00  Housing Complaints   \n",
      "46  2022-12-04 19:29:07.423  Housing Complaints   \n",
      "54      2022-12-04 15:28:00  Housing Complaints   \n",
      "65      2022-12-04 09:44:00  Housing Complaints   \n",
      "66  2022-12-04 09:42:21.977  Housing Complaints   \n",
      "\n",
      "                                        description  \\\n",
      "45                                       Electrical   \n",
      "46              Maintenance Complaint - Residential   \n",
      "54                 Protection of Adjoining Property   \n",
      "65  Unsatisfactory Utilities - Electrical, Plumbing   \n",
      "66  Unsatisfactory Utilities - Electrical, Plumbing   \n",
      "\n",
      "                      address neighborhood  zip_code      parcel  \\\n",
      "45   311 Blue Hill Ave, 02121   Dorchester      2121  1202889000   \n",
      "46   15 Wildwood St #1, 02124   Dorchester      2124  1403459000   \n",
      "54         53 Alban St, 02124   Dorchester      2124  1704958000   \n",
      "65  138-144 Bernard St, 02124   Dorchester      2124  1402922010   \n",
      "66      142 Bernard St, 02124   Dorchester      2124  1402922010   \n",
      "\n",
      "                                  owner  year built  year remodeled  \\\n",
      "45                      TCB CLARION LLC         NaN             NaN   \n",
      "46    FAIRFIELD BOSTON APTS LPS MASS LP      1925.0          1992.0   \n",
      "54                    MOONEY DAVID HALE      1850.0          2001.0   \n",
      "65  TALBOT BERNARD HOUSING LLC MASS LLC      2003.0             NaN   \n",
      "66  TALBOT BERNARD HOUSING LLC MASS LLC      2003.0             NaN   \n",
      "\n",
      "                  property_type   latitude  longitude  \n",
      "45   Mixed Use (Res. and Comm.)  42.313876 -71.079523  \n",
      "46  Residential 7 or more units  42.283920 -71.087240  \n",
      "54         Residential 1-family  42.286870 -71.065910  \n",
      "65  Residential 7 or more units  42.290840 -71.078620  \n",
      "66  Residential 7 or more units  42.290837 -71.078624  \n",
      "                    date      violation_type                     description  \\\n",
      "47   2022-12-04 18:56:00  Housing Complaints  Heat - Excessive, Insufficient   \n",
      "49   2022-12-04 18:49:00  Housing Complaints     Building Inspection Request   \n",
      "58   2022-12-04 13:00:00  Housing Complaints  Heat - Excessive, Insufficient   \n",
      "60   2022-12-04 12:05:00  Housing Complaints  Heat - Excessive, Insufficient   \n",
      "141  2022-12-03 12:34:00  Housing Complaints  Heat - Excessive, Insufficient   \n",
      "\n",
      "                               address neighborhood  zip_code      parcel  \\\n",
      "47            505 Washington St, 02135     Brighton      2135  2204144000   \n",
      "49            505 Washington St, 02135     Brighton      2135  2204144000   \n",
      "58       15 Commonwealth Ct # 6, 02135     Brighton      2135  2101776000   \n",
      "60   15 Commonwealth Ct # 15-13, 02135     Brighton      2135  2101776000   \n",
      "141         45 Montcalm Ave # 2, 02135     Brighton      2135  2202042000   \n",
      "\n",
      "                            owner  year built  year remodeled  \\\n",
      "47                KEEGAN JOSEPH A      1915.0          2004.0   \n",
      "49                KEEGAN JOSEPH A      1915.0          2004.0   \n",
      "58   COMMONWEALTH SQUARE CONDO TR      1999.0          1999.0   \n",
      "60   COMMONWEALTH SQUARE CONDO TR      1999.0          1999.0   \n",
      "141                   CYR JAMES M      1890.0          2012.0   \n",
      "\n",
      "            property_type  latitude  longitude  \n",
      "47   Residential 3-family  42.34917  -71.16140  \n",
      "49   Residential 3-family  42.34917  -71.16140  \n",
      "58      Condominium Main*  42.34580  -71.13952  \n",
      "60      Condominium Main*  42.34580  -71.13952  \n",
      "141  Residential 2-family  42.35313  -71.14757  \n"
     ]
    }
   ],
   "source": [
    "df_neighborhood_arr = []\n",
    "for neighborhood in df['neighborhood'].unique():\n",
    "    df_neighborhood_arr.append(df[df['neighborhood']==neighborhood])\n",
    "# print(df_neighborhood_arr[0].head(5))\n",
    "# print(df_neighborhood_arr[1].head(5))"
   ],
   "metadata": {
    "collapsed": false,
    "pycharm": {
     "name": "#%%\n"
    }
   }
  },
  {
   "cell_type": "code",
   "execution_count": 12,
   "outputs": [
    {
     "name": "stdout",
     "output_type": "stream",
     "text": [
      "{'Dorchester': [['HARBOR POINT APTS CO LESSEE', 'WASHINGTON COLUMBIA II MASS LPS', 'PNC ARHPF BLUE MOUNTAIN APTS LLC'], [83, 80, 73]], 'Brighton': [['CUMMINGS ROAD LLC MASS LLC', 'COMMONWEALTH PROPERTIES', 'LEO BIRMINGHAM NOMINEE TRUST'], [45, 38, 27]], 'East Boston': [['SOLSKINN PROPERTIES LLC', 'MCKINLEY INVESTMENT GROUP  LLC', 'EBSP ASSOCIATES LLC MASS LLC'], [93, 73, 51]], 'Roslindale': [['HIGH POINT VILLAGE CO MASS LPS', 'HORIZON DEVELOPMENT LLC', 'THIRTY 3 HAYDN ST CONDO TR'], [44, 26, 24]], 'Roxbury': [['NORTHAMPTON SQ CONDO ASSOC', 'KASANOF LAND LLC', 'DARTMOUTH HOTEL LP'], [174, 149, 65]], 'South Boston': [['RADCLIFFE RUSSELL F ETAL', 'COURT SQUARE PRESS BUILDING', 'CONNOLLY DIANE M'], [53, 47, 38]], 'Hyde Park': [['GEORGETOWNE HOMES ONE LLC MASS LLC', 'GBM PORTFOLIO OWNER LLC', 'GEORGETOWNE HOMES TWO LLC MASS LLC'], [102, 62, 51]], 'Boston': [['MERCANTILE WHARF ASSOCIATES', 'CHARLES RIVER PARK D COMPANY', 'RIVIERA CONDOMINIUM ASSN'], [86, 65, 63]], 'West Roxbury': [['STONY BROOK CONDOMINIUM TR', 'BROADLAWN PK CONDOMINIUM TR', 'BC ROCKINGHAM GLEN LLC'], [56, 28, 26]], 'Charlestown': [['SHAUGHNESSY BRIAN F', 'MISHAWUM PARK TENANTS ASSOC', 'FLAGSHIP WHARF CONDO ASSN'], [25, 23, 21]], 'Mattapan': [['GBM PORTFOLIO OWNER LLC', 'BISMARCK STREET OWNER LLC', 'FERREIRA JOSE'], [260, 85, 48]], 'Mission Hill': [['SMITH SENIOR RESIDENCES LLC', 'EQR-BACK BAY MANOR LLC', 'LOWER ROXBURY APARTMENTS LP MASS LP'], [47, 30, 21]], 'Jamaica Plain': [['UNION-GREEN REALTY LLC MASS LLC', 'FORESTVALE APARTMENTS LP MASS LP', 'J P HOUSING LP'], [63, 52, 26]], 'Allston': [['NORTHGATE CONDO TRUST', 'LONG-GLEN RENTAL LLC MASS LLC', 'COMMGLEN LLC'], [47, 38, 30]], 'Chestnut Hill': [['MAMALAKIS PHILIP', 'HV TH LLC', 'KURLAND ABRAHAM E'], [6, 5, 3]]}\n"
     ]
    }
   ],
   "source": [
    "owners_dict = {}\n",
    "for df_neighborhood in df_neighborhood_arr:\n",
    "    # print(df_neighborhood.head(2))\n",
    "    if not df_neighborhood.empty:\n",
    "        top_3_owners = list(df_neighborhood.owner.value_counts().keys())[:3]\n",
    "        top_3_owners_counts = list(df_neighborhood.owner.value_counts().values[:3])\n",
    "        owners_dict[df_neighborhood.neighborhood.iloc[1]] = [top_3_owners, top_3_owners_counts]\n",
    "\n",
    "print(owners_dict)"
   ],
   "metadata": {
    "collapsed": false,
    "pycharm": {
     "name": "#%%\n"
    }
   }
  }
 ],
 "metadata": {
  "kernelspec": {
   "display_name": "Python 3",
   "language": "python",
   "name": "python3"
  },
  "language_info": {
   "codemirror_mode": {
    "name": "ipython",
    "version": 2
   },
   "file_extension": ".py",
   "mimetype": "text/x-python",
   "name": "python",
   "nbconvert_exporter": "python",
   "pygments_lexer": "ipython2",
   "version": "2.7.6"
  }
 },
 "nbformat": 4,
 "nbformat_minor": 0
}