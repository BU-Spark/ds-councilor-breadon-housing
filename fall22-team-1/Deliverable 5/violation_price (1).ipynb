{
 "cells": [
  {
   "cell_type": "code",
   "execution_count": 1,
   "metadata": {},
   "outputs": [],
   "source": [
    "import pandas as pd\n",
    "import numpy as np"
   ]
  },
  {
   "cell_type": "code",
   "execution_count": 2,
   "metadata": {},
   "outputs": [],
   "source": [
    "df=pd.read_csv('tmpdwak9k8f.csv')"
   ]
  },
  {
   "cell_type": "code",
   "execution_count": 3,
   "metadata": {},
   "outputs": [],
   "source": [
    "df2018=df.loc[(df.date>='2018')&(df.date<'2019')]\n",
    "\n",
    "df2019=df.loc[(df.date>='2019')&(df.date<'2020')]\n",
    "\n",
    "df2020=df.loc[(df.date>='2020')&(df.date<'2021')]\n",
    "\n",
    "df2021=df.loc[(df.date>='2021')&(df.date<'2022')]\n",
    "\n",
    "df2022=df.loc[(df.date>='2022')&(df.date<'2023')]"
   ]
  },
  {
   "cell_type": "code",
   "execution_count": 4,
   "metadata": {},
   "outputs": [],
   "source": [
    "neighborhoods_to_violations_dict2018=df2018['neighborhood'][(df2018['violation_type'] == 'Housing Complaints') | (df2018['violation_type'] == 'Housing Violations')].value_counts()\n",
    "\n",
    "neighborhoods_to_violations_dict2019=df2019['neighborhood'][(df2019['violation_type'] == 'Housing Complaints') | (df2019['violation_type'] == 'Housing Violations')].value_counts()\n",
    "\n",
    "neighborhoods_to_violations_dict2020=df2020['neighborhood'][(df2020['violation_type'] == 'Housing Complaints') | (df2020['violation_type'] == 'Housing Violations')].value_counts()\n",
    "\n",
    "neighborhoods_to_violations_dict2021=df2021['neighborhood'][(df2021['violation_type'] == 'Housing Complaints') | (df2021['violation_type'] == 'Housing Violations')].value_counts()\n",
    "\n",
    "neighborhoods_to_violations_dict2022=df2022['neighborhood'][(df2022['violation_type'] == 'Housing Complaints') | (df2022['violation_type'] == 'Housing Violations')].value_counts()"
   ]
  },
  {
   "cell_type": "code",
   "execution_count": 5,
   "metadata": {},
   "outputs": [],
   "source": [
    "df_v=pd.DataFrame()"
   ]
  },
  {
   "cell_type": "code",
   "execution_count": 6,
   "metadata": {},
   "outputs": [],
   "source": [
    "\n",
    "df_v['2018']=neighborhoods_to_violations_dict2018\n",
    "df_v['2019']=neighborhoods_to_violations_dict2019\n",
    "df_v['2020']=neighborhoods_to_violations_dict2020\n",
    "df_v['2021']=neighborhoods_to_violations_dict2021\n",
    "df_v['2022']=neighborhoods_to_violations_dict2022"
   ]
  },
  {
   "cell_type": "code",
   "execution_count": 7,
   "metadata": {},
   "outputs": [],
   "source": [
    "df_v=df_v.reset_index()"
   ]
  },
  {
   "cell_type": "code",
   "execution_count": 8,
   "metadata": {},
   "outputs": [],
   "source": [
    "\n",
    "df_v= df_v.rename(columns={'index': 'region'})"
   ]
  },
  {
   "cell_type": "code",
   "execution_count": 11,
   "metadata": {},
   "outputs": [],
   "source": [
    "df_z=pd.read_csv('Neighborhood_zhvi.csv')"
   ]
  },
  {
   "cell_type": "code",
   "execution_count": 12,
   "metadata": {},
   "outputs": [],
   "source": [
    "df_boston_zillow=df_z.loc[(df_z['RegionName'].isin(list(dict(neighborhoods_to_violations_dict2018).keys()))) & (df_z.City=='Boston') ]"
   ]
  },
  {
   "cell_type": "code",
   "execution_count": 13,
   "metadata": {},
   "outputs": [],
   "source": [
    "df_z2022=df_boston_zillow.iloc[:, [2] + list(range(-10, -0))].reset_index()\n",
    "df_z2021=df_boston_zillow.iloc[:, [2] + list(range(-22, -10))].reset_index()\n",
    "df_z2020=df_boston_zillow.iloc[:, [2] + list(range(-34, -22))].reset_index()\n",
    "df_z2019=df_boston_zillow.iloc[:, [2] + list(range(-46, -34))].reset_index()\n",
    "df_z2018=df_boston_zillow.iloc[:, [2] + list(range(-58, -46))].reset_index()"
   ]
  },
  {
   "cell_type": "code",
   "execution_count": 14,
   "metadata": {},
   "outputs": [],
   "source": [
    "df_z2018['mean']=df_z2018.iloc[:,2:].mean(axis=1)\n",
    "\n",
    "df_z2019['mean']=df_z2019.iloc[:,2:].mean(axis=1)\n",
    "\n",
    "df_z2020['mean']=df_z2020.iloc[:,2:].mean(axis=1)\n",
    "\n",
    "df_z2021['mean']=df_z2021.iloc[:,2:].mean(axis=1)\n",
    "\n",
    "df_z2022['mean']=df_z2022.iloc[:,2:].mean(axis=1)"
   ]
  },
  {
   "cell_type": "code",
   "execution_count": 15,
   "metadata": {},
   "outputs": [],
   "source": [
    "df_p=pd.DataFrame()\n",
    "df_p['region']=df_z2018['RegionName']"
   ]
  },
  {
   "cell_type": "code",
   "execution_count": 16,
   "metadata": {},
   "outputs": [],
   "source": [
    "df_p['2018']=df_z2018['mean']\n",
    "df_p['2019']=df_z2019['mean']\n",
    "df_p['2020']=df_z2020['mean']\n",
    "df_p['2021']=df_z2021['mean']\n",
    "df_p['2022']=df_z2022['mean']"
   ]
  },
  {
   "cell_type": "code",
   "execution_count": 17,
   "metadata": {},
   "outputs": [],
   "source": [
    "df_p_v = df_p.merge(df_v, on='region')"
   ]
  },
  {
   "cell_type": "code",
   "execution_count": 18,
   "metadata": {},
   "outputs": [],
   "source": [
    "df_p_f=df_p_v.iloc[:,0:6]"
   ]
  },
  {
   "cell_type": "code",
   "execution_count": 19,
   "metadata": {},
   "outputs": [],
   "source": [
    "df_p_f = df_p_f.rename({'2018_x': '2018', '2019_x': '2019','2020_x': '2020','2021_x': '2021','2022_x': '2022'}, axis='columns')"
   ]
  },
  {
   "cell_type": "code",
   "execution_count": 20,
   "metadata": {},
   "outputs": [],
   "source": [
    "df_v_f=df_p_v.iloc[:, [0, 6, 7, 8, 9,10]]"
   ]
  },
  {
   "cell_type": "code",
   "execution_count": 21,
   "metadata": {},
   "outputs": [],
   "source": [
    "df_v_f = df_v_f.rename({'2018_y': '2018', '2019_y': '2019','2020_y': '2020','2021_y': '2021','2022_y': '2022'}, axis='columns')"
   ]
  },
  {
   "cell_type": "code",
   "execution_count": 22,
   "metadata": {},
   "outputs": [
    {
     "data": {
      "text/html": [
       "<div>\n",
       "<style scoped>\n",
       "    .dataframe tbody tr th:only-of-type {\n",
       "        vertical-align: middle;\n",
       "    }\n",
       "\n",
       "    .dataframe tbody tr th {\n",
       "        vertical-align: top;\n",
       "    }\n",
       "\n",
       "    .dataframe thead th {\n",
       "        text-align: right;\n",
       "    }\n",
       "</style>\n",
       "<table border=\"1\" class=\"dataframe\">\n",
       "  <thead>\n",
       "    <tr style=\"text-align: right;\">\n",
       "      <th></th>\n",
       "      <th>region</th>\n",
       "      <th>2018</th>\n",
       "      <th>2019</th>\n",
       "      <th>2020</th>\n",
       "      <th>2021</th>\n",
       "      <th>2022</th>\n",
       "    </tr>\n",
       "  </thead>\n",
       "  <tbody>\n",
       "    <tr>\n",
       "      <th>0</th>\n",
       "      <td>Roxbury</td>\n",
       "      <td>472349.583333</td>\n",
       "      <td>483873.416667</td>\n",
       "      <td>509885.583333</td>\n",
       "      <td>550048.000000</td>\n",
       "      <td>582564.4</td>\n",
       "    </tr>\n",
       "    <tr>\n",
       "      <th>1</th>\n",
       "      <td>Brighton</td>\n",
       "      <td>464581.250000</td>\n",
       "      <td>469286.916667</td>\n",
       "      <td>478309.833333</td>\n",
       "      <td>499455.333333</td>\n",
       "      <td>525156.2</td>\n",
       "    </tr>\n",
       "    <tr>\n",
       "      <th>2</th>\n",
       "      <td>Jamaica Plain</td>\n",
       "      <td>598381.583333</td>\n",
       "      <td>617622.166667</td>\n",
       "      <td>630998.333333</td>\n",
       "      <td>668569.500000</td>\n",
       "      <td>717825.3</td>\n",
       "    </tr>\n",
       "    <tr>\n",
       "      <th>3</th>\n",
       "      <td>East Boston</td>\n",
       "      <td>479679.166667</td>\n",
       "      <td>513488.333333</td>\n",
       "      <td>523595.916667</td>\n",
       "      <td>561924.000000</td>\n",
       "      <td>609667.5</td>\n",
       "    </tr>\n",
       "    <tr>\n",
       "      <th>4</th>\n",
       "      <td>South Boston</td>\n",
       "      <td>725957.500000</td>\n",
       "      <td>742612.000000</td>\n",
       "      <td>754743.166667</td>\n",
       "      <td>782296.833333</td>\n",
       "      <td>830923.1</td>\n",
       "    </tr>\n",
       "    <tr>\n",
       "      <th>5</th>\n",
       "      <td>Hyde Park</td>\n",
       "      <td>448166.916667</td>\n",
       "      <td>470850.083333</td>\n",
       "      <td>492688.333333</td>\n",
       "      <td>550092.916667</td>\n",
       "      <td>599635.8</td>\n",
       "    </tr>\n",
       "    <tr>\n",
       "      <th>6</th>\n",
       "      <td>West Roxbury</td>\n",
       "      <td>581581.750000</td>\n",
       "      <td>599255.750000</td>\n",
       "      <td>621856.416667</td>\n",
       "      <td>678813.000000</td>\n",
       "      <td>732539.3</td>\n",
       "    </tr>\n",
       "    <tr>\n",
       "      <th>7</th>\n",
       "      <td>Roslindale</td>\n",
       "      <td>529925.833333</td>\n",
       "      <td>552836.166667</td>\n",
       "      <td>570640.750000</td>\n",
       "      <td>617738.583333</td>\n",
       "      <td>674070.2</td>\n",
       "    </tr>\n",
       "    <tr>\n",
       "      <th>8</th>\n",
       "      <td>Allston</td>\n",
       "      <td>474277.583333</td>\n",
       "      <td>490200.583333</td>\n",
       "      <td>499086.916667</td>\n",
       "      <td>519458.000000</td>\n",
       "      <td>544315.1</td>\n",
       "    </tr>\n",
       "    <tr>\n",
       "      <th>9</th>\n",
       "      <td>Mattapan</td>\n",
       "      <td>428563.916667</td>\n",
       "      <td>437233.500000</td>\n",
       "      <td>467834.416667</td>\n",
       "      <td>514803.583333</td>\n",
       "      <td>555496.2</td>\n",
       "    </tr>\n",
       "    <tr>\n",
       "      <th>10</th>\n",
       "      <td>Charlestown</td>\n",
       "      <td>769651.500000</td>\n",
       "      <td>782054.916667</td>\n",
       "      <td>796198.250000</td>\n",
       "      <td>824476.833333</td>\n",
       "      <td>885375.5</td>\n",
       "    </tr>\n",
       "    <tr>\n",
       "      <th>11</th>\n",
       "      <td>Mission Hill</td>\n",
       "      <td>573016.333333</td>\n",
       "      <td>574952.083333</td>\n",
       "      <td>588270.916667</td>\n",
       "      <td>617153.500000</td>\n",
       "      <td>655743.9</td>\n",
       "    </tr>\n",
       "  </tbody>\n",
       "</table>\n",
       "</div>"
      ],
      "text/plain": [
       "           region           2018           2019           2020           2021  \\\n",
       "0         Roxbury  472349.583333  483873.416667  509885.583333  550048.000000   \n",
       "1        Brighton  464581.250000  469286.916667  478309.833333  499455.333333   \n",
       "2   Jamaica Plain  598381.583333  617622.166667  630998.333333  668569.500000   \n",
       "3     East Boston  479679.166667  513488.333333  523595.916667  561924.000000   \n",
       "4    South Boston  725957.500000  742612.000000  754743.166667  782296.833333   \n",
       "5       Hyde Park  448166.916667  470850.083333  492688.333333  550092.916667   \n",
       "6    West Roxbury  581581.750000  599255.750000  621856.416667  678813.000000   \n",
       "7      Roslindale  529925.833333  552836.166667  570640.750000  617738.583333   \n",
       "8         Allston  474277.583333  490200.583333  499086.916667  519458.000000   \n",
       "9        Mattapan  428563.916667  437233.500000  467834.416667  514803.583333   \n",
       "10    Charlestown  769651.500000  782054.916667  796198.250000  824476.833333   \n",
       "11   Mission Hill  573016.333333  574952.083333  588270.916667  617153.500000   \n",
       "\n",
       "        2022  \n",
       "0   582564.4  \n",
       "1   525156.2  \n",
       "2   717825.3  \n",
       "3   609667.5  \n",
       "4   830923.1  \n",
       "5   599635.8  \n",
       "6   732539.3  \n",
       "7   674070.2  \n",
       "8   544315.1  \n",
       "9   555496.2  \n",
       "10  885375.5  \n",
       "11  655743.9  "
      ]
     },
     "execution_count": 22,
     "metadata": {},
     "output_type": "execute_result"
    }
   ],
   "source": [
    "df_p_f"
   ]
  },
  {
   "cell_type": "code",
   "execution_count": 23,
   "metadata": {},
   "outputs": [
    {
     "data": {
      "text/html": [
       "<div>\n",
       "<style scoped>\n",
       "    .dataframe tbody tr th:only-of-type {\n",
       "        vertical-align: middle;\n",
       "    }\n",
       "\n",
       "    .dataframe tbody tr th {\n",
       "        vertical-align: top;\n",
       "    }\n",
       "\n",
       "    .dataframe thead th {\n",
       "        text-align: right;\n",
       "    }\n",
       "</style>\n",
       "<table border=\"1\" class=\"dataframe\">\n",
       "  <thead>\n",
       "    <tr style=\"text-align: right;\">\n",
       "      <th></th>\n",
       "      <th>region</th>\n",
       "      <th>2018</th>\n",
       "      <th>2019</th>\n",
       "      <th>2020</th>\n",
       "      <th>2021</th>\n",
       "      <th>2022</th>\n",
       "    </tr>\n",
       "  </thead>\n",
       "  <tbody>\n",
       "    <tr>\n",
       "      <th>0</th>\n",
       "      <td>Roxbury</td>\n",
       "      <td>1178</td>\n",
       "      <td>1166</td>\n",
       "      <td>1081</td>\n",
       "      <td>1344</td>\n",
       "      <td>1035</td>\n",
       "    </tr>\n",
       "    <tr>\n",
       "      <th>1</th>\n",
       "      <td>Brighton</td>\n",
       "      <td>600</td>\n",
       "      <td>513</td>\n",
       "      <td>548</td>\n",
       "      <td>604</td>\n",
       "      <td>522</td>\n",
       "    </tr>\n",
       "    <tr>\n",
       "      <th>2</th>\n",
       "      <td>Jamaica Plain</td>\n",
       "      <td>640</td>\n",
       "      <td>604</td>\n",
       "      <td>510</td>\n",
       "      <td>530</td>\n",
       "      <td>515</td>\n",
       "    </tr>\n",
       "    <tr>\n",
       "      <th>3</th>\n",
       "      <td>East Boston</td>\n",
       "      <td>895</td>\n",
       "      <td>871</td>\n",
       "      <td>909</td>\n",
       "      <td>927</td>\n",
       "      <td>649</td>\n",
       "    </tr>\n",
       "    <tr>\n",
       "      <th>4</th>\n",
       "      <td>South Boston</td>\n",
       "      <td>776</td>\n",
       "      <td>771</td>\n",
       "      <td>947</td>\n",
       "      <td>1145</td>\n",
       "      <td>627</td>\n",
       "    </tr>\n",
       "    <tr>\n",
       "      <th>5</th>\n",
       "      <td>Hyde Park</td>\n",
       "      <td>497</td>\n",
       "      <td>441</td>\n",
       "      <td>457</td>\n",
       "      <td>480</td>\n",
       "      <td>344</td>\n",
       "    </tr>\n",
       "    <tr>\n",
       "      <th>6</th>\n",
       "      <td>West Roxbury</td>\n",
       "      <td>312</td>\n",
       "      <td>263</td>\n",
       "      <td>223</td>\n",
       "      <td>268</td>\n",
       "      <td>208</td>\n",
       "    </tr>\n",
       "    <tr>\n",
       "      <th>7</th>\n",
       "      <td>Roslindale</td>\n",
       "      <td>463</td>\n",
       "      <td>342</td>\n",
       "      <td>362</td>\n",
       "      <td>362</td>\n",
       "      <td>338</td>\n",
       "    </tr>\n",
       "    <tr>\n",
       "      <th>8</th>\n",
       "      <td>Allston</td>\n",
       "      <td>379</td>\n",
       "      <td>315</td>\n",
       "      <td>406</td>\n",
       "      <td>392</td>\n",
       "      <td>416</td>\n",
       "    </tr>\n",
       "    <tr>\n",
       "      <th>9</th>\n",
       "      <td>Mattapan</td>\n",
       "      <td>624</td>\n",
       "      <td>587</td>\n",
       "      <td>476</td>\n",
       "      <td>613</td>\n",
       "      <td>501</td>\n",
       "    </tr>\n",
       "    <tr>\n",
       "      <th>10</th>\n",
       "      <td>Charlestown</td>\n",
       "      <td>292</td>\n",
       "      <td>284</td>\n",
       "      <td>362</td>\n",
       "      <td>282</td>\n",
       "      <td>205</td>\n",
       "    </tr>\n",
       "    <tr>\n",
       "      <th>11</th>\n",
       "      <td>Mission Hill</td>\n",
       "      <td>227</td>\n",
       "      <td>203</td>\n",
       "      <td>200</td>\n",
       "      <td>232</td>\n",
       "      <td>222</td>\n",
       "    </tr>\n",
       "  </tbody>\n",
       "</table>\n",
       "</div>"
      ],
      "text/plain": [
       "           region  2018  2019  2020  2021  2022\n",
       "0         Roxbury  1178  1166  1081  1344  1035\n",
       "1        Brighton   600   513   548   604   522\n",
       "2   Jamaica Plain   640   604   510   530   515\n",
       "3     East Boston   895   871   909   927   649\n",
       "4    South Boston   776   771   947  1145   627\n",
       "5       Hyde Park   497   441   457   480   344\n",
       "6    West Roxbury   312   263   223   268   208\n",
       "7      Roslindale   463   342   362   362   338\n",
       "8         Allston   379   315   406   392   416\n",
       "9        Mattapan   624   587   476   613   501\n",
       "10    Charlestown   292   284   362   282   205\n",
       "11   Mission Hill   227   203   200   232   222"
      ]
     },
     "execution_count": 23,
     "metadata": {},
     "output_type": "execute_result"
    }
   ],
   "source": [
    "df_v_f"
   ]
  },
  {
   "cell_type": "code",
   "execution_count": 24,
   "metadata": {},
   "outputs": [],
   "source": [
    "corr=df_v_f.iloc[:,1:6].corrwith(df_p_f.iloc[:,1:6],axis=1)"
   ]
  },
  {
   "cell_type": "code",
   "execution_count": 25,
   "metadata": {},
   "outputs": [
    {
     "data": {
      "text/plain": [
       "0    -0.117571\n",
       "1    -0.200576\n",
       "2    -0.739813\n",
       "3    -0.726915\n",
       "4    -0.182988\n",
       "5    -0.738219\n",
       "6    -0.679507\n",
       "7    -0.618252\n",
       "8     0.560850\n",
       "9    -0.416944\n",
       "10   -0.721153\n",
       "11    0.405398\n",
       "dtype: float64"
      ]
     },
     "execution_count": 25,
     "metadata": {},
     "output_type": "execute_result"
    }
   ],
   "source": [
    "corr"
   ]
  },
  {
   "cell_type": "code",
   "execution_count": 26,
   "metadata": {},
   "outputs": [],
   "source": [
    "df_corr=pd.DataFrame()"
   ]
  },
  {
   "cell_type": "code",
   "execution_count": 27,
   "metadata": {},
   "outputs": [],
   "source": [
    "df_corr['reigon']=df_v_f['region']"
   ]
  },
  {
   "cell_type": "code",
   "execution_count": 28,
   "metadata": {},
   "outputs": [],
   "source": [
    "df_corr['value']=corr"
   ]
  },
  {
   "cell_type": "code",
   "execution_count": 29,
   "metadata": {},
   "outputs": [
    {
     "data": {
      "text/html": [
       "<div>\n",
       "<style scoped>\n",
       "    .dataframe tbody tr th:only-of-type {\n",
       "        vertical-align: middle;\n",
       "    }\n",
       "\n",
       "    .dataframe tbody tr th {\n",
       "        vertical-align: top;\n",
       "    }\n",
       "\n",
       "    .dataframe thead th {\n",
       "        text-align: right;\n",
       "    }\n",
       "</style>\n",
       "<table border=\"1\" class=\"dataframe\">\n",
       "  <thead>\n",
       "    <tr style=\"text-align: right;\">\n",
       "      <th></th>\n",
       "      <th>reigon</th>\n",
       "      <th>value</th>\n",
       "    </tr>\n",
       "  </thead>\n",
       "  <tbody>\n",
       "    <tr>\n",
       "      <th>0</th>\n",
       "      <td>Roxbury</td>\n",
       "      <td>-0.117571</td>\n",
       "    </tr>\n",
       "    <tr>\n",
       "      <th>1</th>\n",
       "      <td>Brighton</td>\n",
       "      <td>-0.200576</td>\n",
       "    </tr>\n",
       "    <tr>\n",
       "      <th>2</th>\n",
       "      <td>Jamaica Plain</td>\n",
       "      <td>-0.739813</td>\n",
       "    </tr>\n",
       "    <tr>\n",
       "      <th>3</th>\n",
       "      <td>East Boston</td>\n",
       "      <td>-0.726915</td>\n",
       "    </tr>\n",
       "    <tr>\n",
       "      <th>4</th>\n",
       "      <td>South Boston</td>\n",
       "      <td>-0.182988</td>\n",
       "    </tr>\n",
       "    <tr>\n",
       "      <th>5</th>\n",
       "      <td>Hyde Park</td>\n",
       "      <td>-0.738219</td>\n",
       "    </tr>\n",
       "    <tr>\n",
       "      <th>6</th>\n",
       "      <td>West Roxbury</td>\n",
       "      <td>-0.679507</td>\n",
       "    </tr>\n",
       "    <tr>\n",
       "      <th>7</th>\n",
       "      <td>Roslindale</td>\n",
       "      <td>-0.618252</td>\n",
       "    </tr>\n",
       "    <tr>\n",
       "      <th>8</th>\n",
       "      <td>Allston</td>\n",
       "      <td>0.560850</td>\n",
       "    </tr>\n",
       "    <tr>\n",
       "      <th>9</th>\n",
       "      <td>Mattapan</td>\n",
       "      <td>-0.416944</td>\n",
       "    </tr>\n",
       "    <tr>\n",
       "      <th>10</th>\n",
       "      <td>Charlestown</td>\n",
       "      <td>-0.721153</td>\n",
       "    </tr>\n",
       "    <tr>\n",
       "      <th>11</th>\n",
       "      <td>Mission Hill</td>\n",
       "      <td>0.405398</td>\n",
       "    </tr>\n",
       "  </tbody>\n",
       "</table>\n",
       "</div>"
      ],
      "text/plain": [
       "           reigon     value\n",
       "0         Roxbury -0.117571\n",
       "1        Brighton -0.200576\n",
       "2   Jamaica Plain -0.739813\n",
       "3     East Boston -0.726915\n",
       "4    South Boston -0.182988\n",
       "5       Hyde Park -0.738219\n",
       "6    West Roxbury -0.679507\n",
       "7      Roslindale -0.618252\n",
       "8         Allston  0.560850\n",
       "9        Mattapan -0.416944\n",
       "10    Charlestown -0.721153\n",
       "11   Mission Hill  0.405398"
      ]
     },
     "execution_count": 29,
     "metadata": {},
     "output_type": "execute_result"
    }
   ],
   "source": [
    "df_corr"
   ]
  },
  {
   "cell_type": "code",
   "execution_count": 30,
   "metadata": {},
   "outputs": [],
   "source": [
    "import matplotlib.pyplot as plt\n"
   ]
  },
  {
   "cell_type": "code",
   "execution_count": 31,
   "metadata": {},
   "outputs": [
    {
     "data": {
      "image/png": "[encoded data removed]",
      "text/plain": [
       "<Figure size 1500x500 with 1 Axes>"
      ]
     },
     "metadata": {},
     "output_type": "display_data"
    }
   ],
   "source": [
    "ax=df_corr.plot(kind='bar', x='reigon', y='value',rot=0,figsize=(15,5))\n",
    "for p in ax.patches:\n",
    "    ax.annotate(str(round(p.get_height(),2)), (p.get_x() + p.get_width() / 2., p.get_height()), ha='center', va='center', xytext=(0, 6), textcoords='offset points')"
   ]
  },
  {
   "cell_type": "code",
   "execution_count": null,
   "metadata": {},
   "outputs": [],
   "source": [
    "LLC MASS LLC', 'NEW{'Dorchester': [['HARBOR POINT APTS CO LESSEE', 'WASHINGTON COLUMBIA II MASS LPS', 'PNC ARHPF BLUE MOUNTAIN APTS LLC', 'TALBOT BERNARD HOUSING  FRANKLIN PARK LIMITED'], [83, 80, 73, 71, 67]], 'Brighton': [['CUMMINGS ROAD LLC MASS LLC', 'COMMONWEALTH PROPERTIES', 'LEO BIRMINGHAM NOMINEE TRUST', 'COMAVEN HOUSING ASSOC LPS', 'RESERVOIR PLACE CONDO TR'], [45, 38, 27, 25, 25]], 'East Boston': [['SOLSKINN PROPERTIES LLC', 'MCKINLEY INVESTMENT GROUP  LLC', 'EBSP ASSOCIATES LLC MASS LLC', 'PETER PAN PROPERTIES LLC MASS LLC', 'LAQUIDARA ROBERT'], [93, 73, 51, 36, 25]], 'Roslindale': [['HIGH POINT VILLAGE CO MASS LPS', 'HORIZON DEVELOPMENT LLC', 'THIRTY 3 HAYDN ST CONDO TR', 'CUMMINS TOWERS COMPANY', 'AMERICAN INVESTMENT GROUP    CORP'], [44, 26, 24, 23, 17]], 'Roxbury': [['NORTHAMPTON SQ CONDO ASSOC', 'KASANOF LAND LLC', 'DARTMOUTH HOTEL LP', 'LACONCHA LIMITED PARTNERSHIP', 'JPNDC  PITTS  LLC'], [174, 149, 65, 61, 52]], 'South Boston': [['RADCLIFFE RUSSELL F ETAL', 'COURT SQUARE PRESS BUILDING', 'CONNOLLY DIANE M', 'FOX STREET LLC', 'ARTS YVONNE M TS'], [53, 47, 38, 37, 34]], 'Hyde Park': [['GEORGETOWNE HOMES ONE LLC MASS LLC', 'GBM PORTFOLIO OWNER LLC', 'GEORGETOWNE HOMES TWO LLC MASS LLC', 'CESCO LLC MASS LLC', 'CANTERBURY VILLAGE CONDO TR'], [102, 62, 51, 44, 30]], 'Boston': [['MERCANTILE WHARF ASSOCIATES', 'CHARLES RIVER PARK D COMPANY', 'RIVIERA CONDOMINIUM ASSN', 'SYMPHONY PLAZA LEASEHOLD', 'LDJ DEVELOPMENT LLC'], [86, 65, 63, 60, 53]], 'West Roxbury': [['STONY BROOK CONDOMINIUM TR', 'BROADLAWN PK CONDOMINIUM TR', 'BC ROCKINGHAM GLEN LLC', 'BRACKETT KRISTINE TS', 'SOOHOO PAUL ETAL'], [56, 28, 26, 26, 24]], 'Charlestown': [['SHAUGHNESSY BRIAN F', 'MISHAWUM PARK TENANTS ASSOC', 'FLAGSHIP WHARF CONDO ASSN', '7 HANCOCK LLC', 'HURLEY PAULA A'], [25, 23, 21, 21, 19]], 'Mattapan': [['GBM PORTFOLIO OWNER LLC', 'BISMARCK STREET OWNER LLC', 'FERREIRA JOSE', 'NIU JIANGHE', 'WILMINGTON TRUST NATIONAL'], [260, 85, 48, 43, 38]], 'Mission Hill': [['SMITH SENIOR RESIDENCES LLC', 'EQR-BACK BAY MANOR LLC', 'LOWER ROXBURY APARTMENTS LP MASS LP', 'MPIII TOWNHOMES LLC', 'LONGWOOD APARTMENTS LLC'], [47, 30, 21, 20, 20]], 'Jamaica Plain': [['UNION-GREEN REALTY LLC MASS LLC', 'FORESTVALE APARTMENTS LP MASS LP', 'J P HOUSING LP', 'SOUTH STREET LJS LLC MASS LLC', 'GCB REALTY LLC'], [63, 52, 26, 25, 24]], 'Allston': [['NORTHGATE CONDO TRUST', 'LONG-GLEN RENTAL LLC MASS LLC', 'COMMGLEN LLC', 'NORA LLC MASS LLC', 'COMMONWEALTH 1144 LPS MASS LPS'], [47, 38, 30, 27, 26]], \n",
    "'Chestnut Hill': [['MAMALAKIS PHILIP', 'HV TH LLC', 'KURLAND ABRAHAM E', 'KELLER MARTIN D', 'AUSTER SIMONE'], [6, 5, 3, 3, 2]]}"
   ]
  },
  {
   "cell_type": "code",
   "execution_count": null,
   "metadata": {},
   "outputs": [],
   "source": []
  }
 ],
 "metadata": {
  "kernelspec": {
   "display_name": "Python 3.9.13 ('base')",
   "language": "python",
   "name": "python3"
  },
  "language_info": {
   "codemirror_mode": {
    "name": "ipython",
    "version": 3
   },
   "file_extension": ".py",
   "mimetype": "text/x-python",
   "name": "python",
   "nbconvert_exporter": "python",
   "pygments_lexer": "ipython3",
   "version": "3.9.13 (main, Aug 25 2022, 23:51:50) [MSC v.1916 64 bit (AMD64)]"
  },
  "orig_nbformat": 4,
  "vscode": {
   "interpreter": {
    "hash": "ec3b6344b8b3f6c3db1463248c46b8920f4fc68f6187e2c1e71f56a52299e245"
   }
  }
 },
 "nbformat": 4,
 "nbformat_minor": 2
}
