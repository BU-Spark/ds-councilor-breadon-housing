{
 "cells": [
  {
   "cell_type": "code",
   "execution_count": 6,
   "metadata": {
    "collapsed": true,
    "pycharm": {
     "name": "#%%\n"
    }
   },
   "outputs": [
    {
     "name": "stderr",
     "output_type": "stream",
     "text": [
      "c:\\users\\ooopspear\\desktop\\cs506\\spark\\off-campus residence report\\venv\\lib\\site-packages\\openpyxl\\worksheet\\_reader.py:312: UserWarning: Unknown extension is not supported and will be removed\n",
      "  warn(msg)\n"
     ]
    },
    {
     "name": "stdout",
     "output_type": "stream",
     "text": [
      "(11, 8)\n"
     ]
    }
   ],
   "source": [
    "import numpy as np\n",
    "import matplotlib as plt\n",
    "import pandas as pd\n",
    "\n",
    "school_names = ['AY21-22 Bay State College.xlsx', 'AY21-22 Berklee College of Music-Boston Conservatory.xlsx',\n",
    "                'AY21-22 Boston Architectural College.xlsx', 'AY21-22 Boston Baptist College.xlsx',\n",
    "                'AY21-22 Boston College WCAS.xlsx', 'AY21-22 Boston College.xlsx',\n",
    "                'AY21-22 Boston University.xlsx', 'AY21-22 Emerson College.xlsx',\n",
    "                'AY21-22 Emmanuel College.xlsx', 'AY21-22 Fisher College.xlsx',\n",
    "                'AY21-22 Franklin Institute of Technology.xlsx', 'AY21-22 Harvard University.xlsx',\n",
    "                'AY21-22 MA College of Pharmacy and Health Sciences.xlsx', 'AY21-22 Massachusetts College of Art and Design.xlsx',\n",
    "                'AY21-22 Massachusetts Institute of Technology.xlsx', 'AY21-22 MGH Institute of Health Professions.xlsx',\n",
    "                'AY21-22 New England College of Optometry.xlsx', 'AY21-22 New England Conservatory University.xlsx',\n",
    "                'AY21-22 New England Law-Boston.xlsx', 'AY21-22 Northeastern University.xlsx',\n",
    "                'AY21-22 Sattler College.xlsx', 'AY21-22 SHOWA Institute Boston.xlsx',\n",
    "                'AY21-22 Simmons University.xlsx', 'AY21-22 St. John_s Seminary.xlsx',\n",
    "                'AY21-22 Suffolk University.xlsx', 'AY21-22 Tufts University.xlsx',\n",
    "                'AY21-22 University of Massachusetts-Boston.xlsx', 'AY21-22 Urban College of Boston.xlsx',\n",
    "                'AY21-22 Wentworth Institute of Technology.xlsx']\n",
    "addr_df_arr = []\n",
    "for name in school_names:\n",
    "    addr_df_arr.append(pd.read_excel(name,sheet_name='Student Addresses',usecols='A:H'))"
   ]
  },
  {
   "cell_type": "code",
   "execution_count": 23,
   "outputs": [
    {
     "data": {
      "text/plain": "30760"
     },
     "execution_count": 23,
     "metadata": {},
     "output_type": "execute_result"
    }
   ],
   "source": [
    "total_count = 0\n",
    "\n",
    "for df in addr_df_arr:\n",
    "    df['Street Address'] = df.iloc[:,0].astype(str) + ', ' + df.iloc[:,1].astype(str) + ', ' +\\\n",
    "                           df.iloc[:,2].astype(str) + ', ' + df.iloc[:,3].astype(str)\n",
    "    total_count += len(df['Street Address'].unique())\n",
    "\n",
    "total_count"
   ],
   "metadata": {
    "collapsed": false,
    "pycharm": {
     "name": "#%%\n"
    }
   }
  }
 ],
 "metadata": {
  "kernelspec": {
   "display_name": "Python 3",
   "language": "python",
   "name": "python3"
  },
  "language_info": {
   "codemirror_mode": {
    "name": "ipython",
    "version": 2
   },
   "file_extension": ".py",
   "mimetype": "text/x-python",
   "name": "python",
   "nbconvert_exporter": "python",
   "pygments_lexer": "ipython2",
   "version": "2.7.6"
  }
 },
 "nbformat": 4,
 "nbformat_minor": 0
}