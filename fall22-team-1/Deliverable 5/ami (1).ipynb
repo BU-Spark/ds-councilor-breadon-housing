{
 "cells": [
  {
   "cell_type": "code",
   "execution_count": 24,
   "metadata": {},
   "outputs": [],
   "source": [
    "import pandas as pd\n",
    "import os"
   ]
  },
  {
   "cell_type": "code",
   "execution_count": 25,
   "metadata": {},
   "outputs": [],
   "source": [
    "df=pd.read_excel('ami.xlsx')"
   ]
  },
  {
   "cell_type": "code",
   "execution_count": 26,
   "metadata": {},
   "outputs": [],
   "source": [
    "df = df[df['AMI Categories'].notna()]"
   ]
  },
  {
   "cell_type": "code",
   "execution_count": 27,
   "metadata": {},
   "outputs": [],
   "source": [
    "a=df.groupby(['Neighborhood','AMI Categories'])['Number of Units Tracked'].sum().reset_index()\n",
    "a[\"AMI Categories\"]=a[\"AMI Categories\"].astype('string')"
   ]
  },
  {
   "cell_type": "code",
   "execution_count": 28,
   "metadata": {},
   "outputs": [],
   "source": [
    "s = a['AMI Categories'].str.split(\",|-\").apply(pd.Series, 1).stack()\n",
    "s.index = s.index.droplevel(-1)\n",
    "del a['AMI Categories']\n",
    "s.name = 'AMI Categories'\n",
    "c=a.join(s)"
   ]
  },
  {
   "cell_type": "code",
   "execution_count": 29,
   "metadata": {},
   "outputs": [],
   "source": [
    "def to_num(x):\n",
    "    if '%' in x:\n",
    "        return float(x.strip('%'))/100\n",
    "    if float(x)>2:\n",
    "        return float(x)/100\n",
    "    return x\n",
    "c['AMI Categories']=c['AMI Categories'].map(to_num)\n"
   ]
  },
  {
   "cell_type": "code",
   "execution_count": 30,
   "metadata": {},
   "outputs": [],
   "source": [
    "c=c.groupby(['Neighborhood','AMI Categories'])['Number of Units Tracked'].sum().reset_index()"
   ]
  },
  {
   "cell_type": "code",
   "execution_count": 31,
   "metadata": {},
   "outputs": [],
   "source": [
    "dic={'Allston':(42.355509,-71.132825),'Back Bay':(42.350265,-71.080976),'Brighton':(42.34635,-71.162676),'Charlestown':(42.3782065,-71.0602131),\n",
    "'Dorchester':(42.30163,-71.067605),'Downtown':(42.355709,-71.057205),'East Boston':(42.370214,-71.03886),'Fenway':(42.342865,-71.100288),'Fort Point':(42.347099,-71.052005),'Jamaica Plain':(42.3097365,-71.11514310000001)\n",
    ",'Mission Hill':(42.329617,-71.10623),'North End':(42.364702,-71.054234),'Roslindale':(42.2832142,-71.12702680000001),'Roxbury':(42.315198,-71.091375),'Seaport':(42.346252,-71.042144),'Mission Hill':(42.329617,-71.10623),\n",
    "'South Boston':(42.3381437,-71.0475773),'South End':(42.338811,-71.076519),'West End':(42.365173,-71.064137),'West Roxbury':(42.279755,-71.162676),'Hyde Park':(42.256529,-71.124056)}"
   ]
  },
  {
   "cell_type": "code",
   "execution_count": 32,
   "metadata": {},
   "outputs": [],
   "source": [
    "c['latitude']=c.Neighborhood.apply(lambda x:dic[x][0])\n",
    "c['longitude']=c.Neighborhood.apply(lambda x:dic[x][1])"
   ]
  },
  {
   "cell_type": "code",
   "execution_count": 33,
   "metadata": {},
   "outputs": [],
   "source": [
    "c['AMI Categories']=c['AMI Categories'].astype('float')"
   ]
  },
  {
   "cell_type": "code",
   "execution_count": 34,
   "metadata": {},
   "outputs": [],
   "source": [
    "from folium import plugins\n",
    "from folium.plugins import HeatMap\n",
    "import folium\n",
    "import numpy as np"
   ]
  },
  {
   "cell_type": "code",
   "execution_count": 53,
   "metadata": {},
   "outputs": [
    {
     "data": {
      "text/html": [
       "<div>\n",
       "<style scoped>\n",
       "    .dataframe tbody tr th:only-of-type {\n",
       "        vertical-align: middle;\n",
       "    }\n",
       "\n",
       "    .dataframe tbody tr th {\n",
       "        vertical-align: top;\n",
       "    }\n",
       "\n",
       "    .dataframe thead th {\n",
       "        text-align: right;\n",
       "    }\n",
       "</style>\n",
       "<table border=\"1\" class=\"dataframe\">\n",
       "  <thead>\n",
       "    <tr style=\"text-align: right;\">\n",
       "      <th></th>\n",
       "      <th>Neighborhood</th>\n",
       "      <th>AMI Categories</th>\n",
       "      <th>Number of Units Tracked</th>\n",
       "      <th>latitude</th>\n",
       "      <th>longitude</th>\n",
       "    </tr>\n",
       "  </thead>\n",
       "  <tbody>\n",
       "    <tr>\n",
       "      <th>0</th>\n",
       "      <td>Allston</td>\n",
       "      <td>0.80</td>\n",
       "      <td>2.0</td>\n",
       "      <td>42.355509</td>\n",
       "      <td>-71.132825</td>\n",
       "    </tr>\n",
       "    <tr>\n",
       "      <th>1</th>\n",
       "      <td>Allston</td>\n",
       "      <td>1.00</td>\n",
       "      <td>4.0</td>\n",
       "      <td>42.355509</td>\n",
       "      <td>-71.132825</td>\n",
       "    </tr>\n",
       "    <tr>\n",
       "      <th>2</th>\n",
       "      <td>Allston</td>\n",
       "      <td>0.09</td>\n",
       "      <td>8.0</td>\n",
       "      <td>42.355509</td>\n",
       "      <td>-71.132825</td>\n",
       "    </tr>\n",
       "    <tr>\n",
       "      <th>3</th>\n",
       "      <td>Allston</td>\n",
       "      <td>0.70</td>\n",
       "      <td>122.0</td>\n",
       "      <td>42.355509</td>\n",
       "      <td>-71.132825</td>\n",
       "    </tr>\n",
       "    <tr>\n",
       "      <th>4</th>\n",
       "      <td>Back Bay</td>\n",
       "      <td>0.65</td>\n",
       "      <td>120.0</td>\n",
       "      <td>42.350265</td>\n",
       "      <td>-71.080976</td>\n",
       "    </tr>\n",
       "    <tr>\n",
       "      <th>...</th>\n",
       "      <td>...</td>\n",
       "      <td>...</td>\n",
       "      <td>...</td>\n",
       "      <td>...</td>\n",
       "      <td>...</td>\n",
       "    </tr>\n",
       "    <tr>\n",
       "      <th>71</th>\n",
       "      <td>West End</td>\n",
       "      <td>0.80</td>\n",
       "      <td>60.0</td>\n",
       "      <td>42.365173</td>\n",
       "      <td>-71.064137</td>\n",
       "    </tr>\n",
       "    <tr>\n",
       "      <th>72</th>\n",
       "      <td>West End</td>\n",
       "      <td>1.20</td>\n",
       "      <td>30.0</td>\n",
       "      <td>42.365173</td>\n",
       "      <td>-71.064137</td>\n",
       "    </tr>\n",
       "    <tr>\n",
       "      <th>73</th>\n",
       "      <td>West End</td>\n",
       "      <td>0.90</td>\n",
       "      <td>19.0</td>\n",
       "      <td>42.365173</td>\n",
       "      <td>-71.064137</td>\n",
       "    </tr>\n",
       "    <tr>\n",
       "      <th>74</th>\n",
       "      <td>West Roxbury</td>\n",
       "      <td>0.70</td>\n",
       "      <td>15.0</td>\n",
       "      <td>42.279755</td>\n",
       "      <td>-71.162676</td>\n",
       "    </tr>\n",
       "    <tr>\n",
       "      <th>75</th>\n",
       "      <td>West Roxbury</td>\n",
       "      <td>0.80</td>\n",
       "      <td>12.0</td>\n",
       "      <td>42.279755</td>\n",
       "      <td>-71.162676</td>\n",
       "    </tr>\n",
       "  </tbody>\n",
       "</table>\n",
       "<p>76 rows × 5 columns</p>\n",
       "</div>"
      ],
      "text/plain": [
       "    Neighborhood  AMI Categories  Number of Units Tracked   latitude  \\\n",
       "0        Allston            0.80                      2.0  42.355509   \n",
       "1        Allston            1.00                      4.0  42.355509   \n",
       "2        Allston            0.09                      8.0  42.355509   \n",
       "3        Allston            0.70                    122.0  42.355509   \n",
       "4       Back Bay            0.65                    120.0  42.350265   \n",
       "..           ...             ...                      ...        ...   \n",
       "71      West End            0.80                     60.0  42.365173   \n",
       "72      West End            1.20                     30.0  42.365173   \n",
       "73      West End            0.90                     19.0  42.365173   \n",
       "74  West Roxbury            0.70                     15.0  42.279755   \n",
       "75  West Roxbury            0.80                     12.0  42.279755   \n",
       "\n",
       "    longitude  \n",
       "0  -71.132825  \n",
       "1  -71.132825  \n",
       "2  -71.132825  \n",
       "3  -71.132825  \n",
       "4  -71.080976  \n",
       "..        ...  \n",
       "71 -71.064137  \n",
       "72 -71.064137  \n",
       "73 -71.064137  \n",
       "74 -71.162676  \n",
       "75 -71.162676  \n",
       "\n",
       "[76 rows x 5 columns]"
      ]
     },
     "execution_count": 53,
     "metadata": {},
     "output_type": "execute_result"
    }
   ],
   "source": [
    "c"
   ]
  },
  {
   "cell_type": "code",
   "execution_count": 58,
   "metadata": {},
   "outputs": [],
   "source": [
    "d=c.loc[c['AMI Categories']>=1]"
   ]
  },
  {
   "cell_type": "code",
   "execution_count": 60,
   "metadata": {},
   "outputs": [],
   "source": [
    "plot=d[['latitude','longitude','Number of Units Tracked']]"
   ]
  },
  {
   "cell_type": "code",
   "execution_count": 56,
   "metadata": {},
   "outputs": [
    {
     "data": {
      "text/plain": [
       "<folium.plugins.heat_map.HeatMap at 0x28429022c70>"
      ]
     },
     "execution_count": 56,
     "metadata": {},
     "output_type": "execute_result"
    }
   ],
   "source": [
    "m = folium.Map(location=[42.3600825, -71.0588801] )\n",
    "HeatMap(plot.values).add_to(folium.FeatureGroup(name='Heat Map').add_to(m))"
   ]
  },
  {
   "cell_type": "code",
   "execution_count": 63,
   "metadata": {},
   "outputs": [
    {
     "data": {
      "text/html": [
       "<div style=\"width:100%;\"><div style=\"position:relative;width:100%;height:0;padding-bottom:60%;\"><span style=\"color:#565656\">Make this Notebook Trusted to load map: File -> Trust Notebook</span><iframe srcdoc=\"&lt;!DOCTYPE html&gt;\n",
       "&lt;head&gt;    \n",
       "    &lt;meta http-equiv=&quot;content-type&quot; content=&quot;text/html; charset=UTF-8&quot; /&gt;\n",
       "    \n",
       "        &lt;script&gt;\n",
       "            L_NO_TOUCH = false;\n",
       "            L_DISABLE_3D = false;\n",
       "        &lt;/script&gt;\n",
       "    \n",
       "    &lt;style&gt;html, body {width: 100%;height: 100%;margin: 0;padding: 0;}&lt;/style&gt;\n",
       "    &lt;style&gt;#map {position:absolute;top:0;bottom:0;right:0;left:0;}&lt;/style&gt;\n",
       "    &lt;script src=&quot;https://cdn.jsdelivr.net/npm/leaflet@1.6.0/dist/leaflet.js&quot;&gt;&lt;/script&gt;\n",
       "    &lt;script src=&quot;https://code.jquery.com/jquery-1.12.4.min.js&quot;&gt;&lt;/script&gt;\n",
       "    &lt;script src=&quot;https://maxcdn.bootstrapcdn.com/bootstrap/3.2.0/js/bootstrap.min.js&quot;&gt;&lt;/script&gt;\n",
       "    &lt;script src=&quot;https://cdnjs.cloudflare.com/ajax/libs/Leaflet.awesome-markers/2.0.2/leaflet.awesome-markers.js&quot;&gt;&lt;/script&gt;\n",
       "    &lt;link rel=&quot;stylesheet&quot; href=&quot;https://cdn.jsdelivr.net/npm/leaflet@1.6.0/dist/leaflet.css&quot;/&gt;\n",
       "    &lt;link rel=&quot;stylesheet&quot; href=&quot;https://maxcdn.bootstrapcdn.com/bootstrap/3.2.0/css/bootstrap.min.css&quot;/&gt;\n",
       "    &lt;link rel=&quot;stylesheet&quot; href=&quot;https://maxcdn.bootstrapcdn.com/bootstrap/3.2.0/css/bootstrap-theme.min.css&quot;/&gt;\n",
       "    &lt;link rel=&quot;stylesheet&quot; href=&quot;https://maxcdn.bootstrapcdn.com/font-awesome/4.6.3/css/font-awesome.min.css&quot;/&gt;\n",
       "    &lt;link rel=&quot;stylesheet&quot; href=&quot;https://cdnjs.cloudflare.com/ajax/libs/Leaflet.awesome-markers/2.0.2/leaflet.awesome-markers.css&quot;/&gt;\n",
       "    &lt;link rel=&quot;stylesheet&quot; href=&quot;https://cdn.jsdelivr.net/gh/python-visualization/folium/folium/templates/leaflet.awesome.rotate.min.css&quot;/&gt;\n",
       "    \n",
       "            &lt;meta name=&quot;viewport&quot; content=&quot;width=device-width,\n",
       "                initial-scale=1.0, maximum-scale=1.0, user-scalable=no&quot; /&gt;\n",
       "            &lt;style&gt;\n",
       "                #map_045be2d0fc5bcc3e6b11b030eae9cafa {\n",
       "                    position: relative;\n",
       "                    width: 100.0%;\n",
       "                    height: 100.0%;\n",
       "                    left: 0.0%;\n",
       "                    top: 0.0%;\n",
       "                }\n",
       "            &lt;/style&gt;\n",
       "        \n",
       "    &lt;script src=&quot;https://cdn.jsdelivr.net/gh/python-visualization/folium@main/folium/templates/leaflet_heat.min.js&quot;&gt;&lt;/script&gt;\n",
       "&lt;/head&gt;\n",
       "&lt;body&gt;    \n",
       "    \n",
       "            &lt;div class=&quot;folium-map&quot; id=&quot;map_045be2d0fc5bcc3e6b11b030eae9cafa&quot; &gt;&lt;/div&gt;\n",
       "        \n",
       "&lt;/body&gt;\n",
       "&lt;script&gt;    \n",
       "    \n",
       "            var map_045be2d0fc5bcc3e6b11b030eae9cafa = L.map(\n",
       "                &quot;map_045be2d0fc5bcc3e6b11b030eae9cafa&quot;,\n",
       "                {\n",
       "                    center: [42.3600825, -71.0588801],\n",
       "                    crs: L.CRS.EPSG3857,\n",
       "                    zoom: 10,\n",
       "                    zoomControl: true,\n",
       "                    preferCanvas: false,\n",
       "                }\n",
       "            );\n",
       "\n",
       "            \n",
       "\n",
       "        \n",
       "    \n",
       "            var tile_layer_36ba741a6976ea80facd6eba7c3d6085 = L.tileLayer(\n",
       "                &quot;https://{s}.tile.openstreetmap.org/{z}/{x}/{y}.png&quot;,\n",
       "                {&quot;attribution&quot;: &quot;Data by \\u0026copy; \\u003ca href=\\&quot;http://openstreetmap.org\\&quot;\\u003eOpenStreetMap\\u003c/a\\u003e, under \\u003ca href=\\&quot;http://www.openstreetmap.org/copyright\\&quot;\\u003eODbL\\u003c/a\\u003e.&quot;, &quot;detectRetina&quot;: false, &quot;maxNativeZoom&quot;: 18, &quot;maxZoom&quot;: 18, &quot;minZoom&quot;: 0, &quot;noWrap&quot;: false, &quot;opacity&quot;: 1, &quot;subdomains&quot;: &quot;abc&quot;, &quot;tms&quot;: false}\n",
       "            ).addTo(map_045be2d0fc5bcc3e6b11b030eae9cafa);\n",
       "        \n",
       "    \n",
       "            var feature_group_0c80dc7d456ece1cbd4fb386912395f6 = L.featureGroup(\n",
       "                {}\n",
       "            ).addTo(map_045be2d0fc5bcc3e6b11b030eae9cafa);\n",
       "        \n",
       "    \n",
       "            var heat_map_2e50db494c96e41613e97af50c1b8e78 = L.heatLayer(\n",
       "                [[42.355509, -71.132825, 2.0], [42.355509, -71.132825, 4.0], [42.355509, -71.132825, 122.0], [42.350265, -71.080976, 120.0], [42.350265, -71.080976, 146.0], [42.350265, -71.080976, 10.0], [42.350265, -71.080976, 140.0], [42.350265, -71.080976, 76.0], [42.350265, -71.080976, 14.0], [42.34635, -71.162676, 5.0], [42.34635, -71.162676, 83.0], [42.34635, -71.162676, 5.0], [42.34635, -71.162676, 83.0], [42.34635, -71.162676, 18.0], [42.3782065, -71.0602131, 22.0], [42.3782065, -71.0602131, 22.0], [42.3782065, -71.0602131, 22.0], [42.3782065, -71.0602131, 80.0], [42.30163, -71.067605, 59.0], [42.30163, -71.067605, 22.0], [42.355709, -71.057205, 54.0], [42.355709, -71.057205, 5.0], [42.355709, -71.057205, 49.0], [42.355709, -71.057205, 98.0], [42.355709, -71.057205, 40.0], [42.370214, -71.03886, 112.0], [42.370214, -71.03886, 112.0], [42.370214, -71.03886, 112.0], [42.370214, -71.03886, 69.0], [42.370214, -71.03886, 34.0], [42.342865, -71.100288, 15.0], [42.342865, -71.100288, 41.0], [42.342865, -71.100288, 340.0], [42.342865, -71.100288, 198.0], [42.342865, -71.100288, 260.0], [42.342865, -71.100288, 202.0], [42.342865, -71.100288, 56.0], [42.342865, -71.100288, 1.0], [42.342865, -71.100288, 10.0], [42.347099, -71.052005, 32.0], [42.347099, -71.052005, 32.0], [42.347099, -71.052005, 35.0], [42.256529, -71.124056, 10.0], [42.3097365, -71.11514310000001, 40.0], [42.3097365, -71.11514310000001, 37.0], [42.3097365, -71.11514310000001, 77.0], [42.3097365, -71.11514310000001, 37.0], [42.3097365, -71.11514310000001, 37.0], [42.3097365, -71.11514310000001, 40.0], [42.3097365, -71.11514310000001, 25.0], [42.329617, -71.10623, 16.0], [42.364702, -71.054234, 20.0], [42.364702, -71.054234, 20.0], [42.364702, -71.054234, 20.0], [42.2832142, -71.12702680000001, 6.0], [42.315198, -71.091375, 35.0], [42.315198, -71.091375, 35.0], [42.315198, -71.091375, 49.0], [42.346252, -71.042144, 241.0], [42.346252, -71.042144, 5.0], [42.3381437, -71.0475773, 8.0], [42.3381437, -71.0475773, 30.0], [42.3381437, -71.0475773, 38.0], [42.3381437, -71.0475773, 15.0], [42.3381437, -71.0475773, 82.0], [42.3381437, -71.0475773, 9.0], [42.338811, -71.076519, 9.0], [42.338811, -71.076519, 130.0], [42.338811, -71.076519, 5.0], [42.338811, -71.076519, 1.0], [42.365173, -71.064137, 60.0], [42.365173, -71.064137, 30.0], [42.365173, -71.064137, 19.0], [42.279755, -71.162676, 15.0], [42.279755, -71.162676, 12.0]],\n",
       "                {&quot;blur&quot;: 15, &quot;maxZoom&quot;: 18, &quot;minOpacity&quot;: 0.5, &quot;radius&quot;: 25}\n",
       "            ).addTo(feature_group_0c80dc7d456ece1cbd4fb386912395f6);\n",
       "        \n",
       "&lt;/script&gt;\" style=\"position:absolute;width:100%;height:100%;left:0;top:0;border:none !important;\" allowfullscreen webkitallowfullscreen mozallowfullscreen></iframe></div></div>"
      ],
      "text/plain": [
       "<folium.folium.Map at 0x28429022c10>"
      ]
     },
     "execution_count": 63,
     "metadata": {},
     "output_type": "execute_result"
    }
   ],
   "source": [
    "m"
   ]
  }
 ],
 "metadata": {
  "kernelspec": {
   "display_name": "Python 3.9.12 ('base')",
   "language": "python",
   "name": "python3"
  },
  "language_info": {
   "codemirror_mode": {
    "name": "ipython",
    "version": 3
   },
   "file_extension": ".py",
   "mimetype": "text/x-python",
   "name": "python",
   "nbconvert_exporter": "python",
   "pygments_lexer": "ipython3",
   "version": "3.9.12"
  },
  "orig_nbformat": 4,
  "vscode": {
   "interpreter": {
    "hash": "ec3b6344b8b3f6c3db1463248c46b8920f4fc68f6187e2c1e71f56a52299e245"
   }
  }
 },
 "nbformat": 4,
 "nbformat_minor": 2
}
