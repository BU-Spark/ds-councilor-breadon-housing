{
 "cells": [
  {
   "cell_type": "code",
   "execution_count": 3,
   "metadata": {},
   "outputs": [],
   "source": [
    "import pandas as pd \n",
    "import seaborn as sns \n",
    "import matplotlib.pyplot as plt\n",
    "import numpy as np \n",
    "\n"
   ]
  },
  {
   "cell_type": "code",
   "execution_count": 11,
   "metadata": {},
   "outputs": [
    {
     "name": "stdout",
     "output_type": "stream",
     "text": [
      "<pandas.core.groupby.generic.DataFrameGroupBy object at 0x7fe514d1bca0>\n"
     ]
    }
   ],
   "source": [
    "df = pd.read_csv(\"/Users/sv/Desktop/BU/SENIORYEAR/CS 506/PROJECT/Code_Reinforcement_Violations.csv\", low_memory=False)\n",
    "# df\n",
    "v_df = df[['violation_suffix', 'violation_zip']].copy()\n",
    "print(v_df.groupby('violation_suffix'))\n",
    "\n",
    "# violations_plot = sns.barplot(data= v_df, x= 'violation_suffix', y= 'violation_zip')\n",
    "# plot.show(block=True);\n"
   ]
  },
  {
   "cell_type": "code",
   "execution_count": null,
   "metadata": {},
   "outputs": [],
   "source": []
  }
 ],
 "metadata": {
  "kernelspec": {
   "display_name": "Python 3",
   "language": "python",
   "name": "python3"
  },
  "language_info": {
   "codemirror_mode": {
    "name": "ipython",
    "version": 3
   },
   "file_extension": ".py",
   "mimetype": "text/x-python",
   "name": "python",
   "nbconvert_exporter": "python",
   "pygments_lexer": "ipython3",
   "version": "3.8.3"
  }
 },
 "nbformat": 4,
 "nbformat_minor": 4
}
